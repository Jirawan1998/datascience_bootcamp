{
  "nbformat": 4,
  "nbformat_minor": 0,
  "metadata": {
    "colab": {
      "provenance": [],
      "authorship_tag": "ABX9TyP74k8HwHBhAvWlW3rzH91W",
      "include_colab_link": true
    },
    "kernelspec": {
      "name": "python3",
      "display_name": "Python 3"
    },
    "language_info": {
      "name": "python"
    }
  },
  "cells": [
    {
      "cell_type": "markdown",
      "metadata": {
        "id": "view-in-github",
        "colab_type": "text"
      },
      "source": [
        "<a href=\"https://colab.research.google.com/github/Jirawan1998/datascience_bootcamp_project/blob/main/Bootcamp_07_Python101.ipynb\" target=\"_parent\"><img src=\"https://colab.research.google.com/assets/colab-badge.svg\" alt=\"Open In Colab\"/></a>"
      ]
    },
    {
      "cell_type": "markdown",
      "source": [
        "# Essential Python 101 \n",
        "\n",
        "Learning 101 for beginners.\n",
        "\n",
        "- variables\n",
        "- data types\n",
        "- data structures\n",
        "- functions\n",
        "- control flow\n",
        "- OOP"
      ],
      "metadata": {
        "id": "GK-ilaHHLc5_"
      }
    },
    {
      "cell_type": "code",
      "execution_count": 1,
      "metadata": {
        "id": "MBIZiT0MLVBi",
        "colab": {
          "base_uri": "https://localhost:8080/"
        },
        "outputId": "4b05ccc5-9d58-4069-d9e5-077f874675da"
      },
      "outputs": [
        {
          "output_type": "stream",
          "name": "stdout",
          "text": [
            "hello world\n"
          ]
        }
      ],
      "source": [
        "print (\"hello world\")"
      ]
    },
    {
      "cell_type": "code",
      "source": [
        "print(\"I am learning 101\")"
      ],
      "metadata": {
        "colab": {
          "base_uri": "https://localhost:8080/"
        },
        "id": "V-8tdcd_LCe9",
        "outputId": "125c71c3-5b7b-456a-c45f-40cbb79bd393"
      },
      "execution_count": 2,
      "outputs": [
        {
          "output_type": "stream",
          "name": "stdout",
          "text": [
            "I am learning 101\n"
          ]
        }
      ]
    },
    {
      "cell_type": "code",
      "source": [
        "# comment\n",
        "#this is just a note\n",
        "print(1+1)\n",
        "print(2*2)\n",
        "print(5*3)"
      ],
      "metadata": {
        "colab": {
          "base_uri": "https://localhost:8080/"
        },
        "id": "OQf2Da8pNneA",
        "outputId": "bb7a2788-225f-4c49-b7e2-4b9307e6a831"
      },
      "execution_count": 3,
      "outputs": [
        {
          "output_type": "stream",
          "name": "stdout",
          "text": [
            "2\n",
            "4\n",
            "15\n"
          ]
        }
      ]
    },
    {
      "cell_type": "code",
      "source": [
        "# basic calculation\n",
        "print(7/2)\n",
        "print(7//2) #floor division"
      ],
      "metadata": {
        "colab": {
          "base_uri": "https://localhost:8080/"
        },
        "id": "qFTX18XaNrP_",
        "outputId": "045db1bf-d4e4-4299-b7c0-f9088ae5588a"
      },
      "execution_count": 4,
      "outputs": [
        {
          "output_type": "stream",
          "name": "stdout",
          "text": [
            "3.5\n",
            "3\n"
          ]
        }
      ]
    },
    {
      "cell_type": "code",
      "source": [
        "pow(5,2)"
      ],
      "metadata": {
        "colab": {
          "base_uri": "https://localhost:8080/"
        },
        "id": "0rRuETFeOQXM",
        "outputId": "d24fc487-698d-459e-97f3-42191ba32483"
      },
      "execution_count": 5,
      "outputs": [
        {
          "output_type": "execute_result",
          "data": {
            "text/plain": [
              "25"
            ]
          },
          "metadata": {},
          "execution_count": 5
        }
      ]
    },
    {
      "cell_type": "code",
      "source": [
        "abs(-666)"
      ],
      "metadata": {
        "colab": {
          "base_uri": "https://localhost:8080/"
        },
        "id": "VfplFMndOrqA",
        "outputId": "9a3130e4-191f-4284-db3a-9f20288597f9"
      },
      "execution_count": 6,
      "outputs": [
        {
          "output_type": "execute_result",
          "data": {
            "text/plain": [
              "666"
            ]
          },
          "metadata": {},
          "execution_count": 6
        }
      ]
    },
    {
      "cell_type": "code",
      "source": [
        "# modulo\n",
        "5 % 2"
      ],
      "metadata": {
        "colab": {
          "base_uri": "https://localhost:8080/"
        },
        "id": "ysXsCQgwO6_c",
        "outputId": "76b8508c-92c7-4801-fb80-abc1ca1dcdcc"
      },
      "execution_count": 7,
      "outputs": [
        {
          "output_type": "execute_result",
          "data": {
            "text/plain": [
              "1"
            ]
          },
          "metadata": {},
          "execution_count": 7
        }
      ]
    },
    {
      "cell_type": "code",
      "source": [
        "# 5 building blocks\n",
        "# 1.variable\n",
        "# 2.data types\n",
        "# 3.data structure\n",
        "# 4.function\n",
        "# 5.control flow\n",
        "# 6.OOP"
      ],
      "metadata": {
        "id": "1oqJ2QA5PFZr"
      },
      "execution_count": 8,
      "outputs": []
    },
    {
      "cell_type": "code",
      "source": [
        "# assign a variable\n",
        "my_name = \"Tuk\"\n",
        "age = 24\n",
        "gpa = 4.00\n",
        "movie_lover = True "
      ],
      "metadata": {
        "id": "KpLdZfpzPvn9"
      },
      "execution_count": 9,
      "outputs": []
    },
    {
      "cell_type": "code",
      "source": [
        "my_name"
      ],
      "metadata": {
        "colab": {
          "base_uri": "https://localhost:8080/",
          "height": 35
        },
        "id": "Xv0Z_gsPQdRi",
        "outputId": "004c30dd-acc6-44cb-adbf-acfcc867a1ae"
      },
      "execution_count": 10,
      "outputs": [
        {
          "output_type": "execute_result",
          "data": {
            "text/plain": [
              "'Tuk'"
            ],
            "application/vnd.google.colaboratory.intrinsic+json": {
              "type": "string"
            }
          },
          "metadata": {},
          "execution_count": 10
        }
      ]
    },
    {
      "cell_type": "code",
      "source": [
        "# case sensitive\n",
        "print(age, gpa, movie_lover, my_name)"
      ],
      "metadata": {
        "colab": {
          "base_uri": "https://localhost:8080/"
        },
        "id": "q4uU3goKSwIv",
        "outputId": "a6c561ec-679d-4022-d8cb-b9c207521fcc"
      },
      "execution_count": 11,
      "outputs": [
        {
          "output_type": "stream",
          "name": "stdout",
          "text": [
            "24 4.0 True Tuk\n"
          ]
        }
      ]
    },
    {
      "cell_type": "code",
      "source": [
        "# over write a value\n",
        "age = 24\n",
        "new_age = age - 12\n",
        "print(age, new_age)"
      ],
      "metadata": {
        "colab": {
          "base_uri": "https://localhost:8080/"
        },
        "id": "tbGUeb5tS5T8",
        "outputId": "6df141ec-acac-419e-fefe-ff8beba85ad2"
      },
      "execution_count": 12,
      "outputs": [
        {
          "output_type": "stream",
          "name": "stdout",
          "text": [
            "24 12\n"
          ]
        }
      ]
    },
    {
      "cell_type": "code",
      "source": [
        "s23_price = 29999\n",
        "discount = 4999\n",
        "new_s23_price = s23_price - discount\n",
        "\n",
        "print(new_s23_price)"
      ],
      "metadata": {
        "colab": {
          "base_uri": "https://localhost:8080/"
        },
        "id": "kHaGI7faTYvF",
        "outputId": "12f919af-36df-4efb-d6a9-522d789f94bc"
      },
      "execution_count": 13,
      "outputs": [
        {
          "output_type": "stream",
          "name": "stdout",
          "text": [
            "25000\n"
          ]
        }
      ]
    },
    {
      "cell_type": "code",
      "source": [
        "# discount 15%\n",
        "s23_price2 = 29999\n",
        "discount2 = 0.15\n",
        "new_s23_price2 = s23_price2 * (1-discount2)\n",
        "\n",
        "print(new_s23_price2)"
      ],
      "metadata": {
        "colab": {
          "base_uri": "https://localhost:8080/"
        },
        "id": "sNxCMcXBT-ME",
        "outputId": "f2c29441-a99a-4e2e-d24c-298f4b4a774d"
      },
      "execution_count": 14,
      "outputs": [
        {
          "output_type": "stream",
          "name": "stdout",
          "text": [
            "25499.149999999998\n"
          ]
        }
      ]
    },
    {
      "cell_type": "code",
      "source": [
        "# remove variable\n",
        "del s23_price"
      ],
      "metadata": {
        "id": "EfRRCcgLZ5R-"
      },
      "execution_count": 15,
      "outputs": []
    },
    {
      "cell_type": "code",
      "source": [
        "# count variable \n",
        "age = 24\n",
        "age += 1 # age = age + 1\n",
        "age += 1\n",
        "age -= 2\n",
        "age *= 2\n",
        "age /= 2\n",
        "print(age)"
      ],
      "metadata": {
        "colab": {
          "base_uri": "https://localhost:8080/"
        },
        "id": "ip23xoYJbWE7",
        "outputId": "4635fbb6-010a-4ce3-a427-c0e4b48b4943"
      },
      "execution_count": 16,
      "outputs": [
        {
          "output_type": "stream",
          "name": "stdout",
          "text": [
            "24.0\n"
          ]
        }
      ]
    },
    {
      "cell_type": "code",
      "source": [
        "# data types\n",
        "# int float str bool"
      ],
      "metadata": {
        "id": "PnQpMoyibtSM"
      },
      "execution_count": 17,
      "outputs": []
    },
    {
      "cell_type": "code",
      "source": [
        "age = 24\n",
        "gpa = 4.00\n",
        "school = \"Thammasat\"\n",
        "movie_lover = True"
      ],
      "metadata": {
        "id": "-W8vSztPcRCB"
      },
      "execution_count": 18,
      "outputs": []
    },
    {
      "cell_type": "code",
      "source": [
        "# check data type\n",
        "print(type(age))\n",
        "print(type(gpa))\n",
        "print(type(school))\n",
        "print(type(movie_lover))"
      ],
      "metadata": {
        "colab": {
          "base_uri": "https://localhost:8080/"
        },
        "id": "eaxMOIRqcho1",
        "outputId": "7315120b-52f7-455e-ca70-7d42e00f3c4e"
      },
      "execution_count": 19,
      "outputs": [
        {
          "output_type": "stream",
          "name": "stdout",
          "text": [
            "<class 'int'>\n",
            "<class 'float'>\n",
            "<class 'str'>\n",
            "<class 'bool'>\n"
          ]
        }
      ]
    },
    {
      "cell_type": "code",
      "source": [
        "# convert type\n",
        "x = 100\n",
        "x = str(x)\n",
        "print(x, type(x))"
      ],
      "metadata": {
        "id": "Smt2oga4dRnd",
        "colab": {
          "base_uri": "https://localhost:8080/"
        },
        "outputId": "13e99d2e-896d-4ffd-9ba2-e30494ca51d9"
      },
      "execution_count": 20,
      "outputs": [
        {
          "output_type": "stream",
          "name": "stdout",
          "text": [
            "100 <class 'str'>\n"
          ]
        }
      ]
    },
    {
      "cell_type": "code",
      "source": [
        "y = True # T=1 , F=0\n",
        "y = int(y)\n",
        "print(y, type(y))"
      ],
      "metadata": {
        "colab": {
          "base_uri": "https://localhost:8080/"
        },
        "id": "5h1yBPjGd3gN",
        "outputId": "70a693fd-b045-4643-9f7d-8cfbeb97c2d5"
      },
      "execution_count": 21,
      "outputs": [
        {
          "output_type": "stream",
          "name": "stdout",
          "text": [
            "1 <class 'int'>\n"
          ]
        }
      ]
    },
    {
      "cell_type": "code",
      "source": [
        "z = 1\n",
        "z = bool(z)\n",
        "print(z,type(z))"
      ],
      "metadata": {
        "colab": {
          "base_uri": "https://localhost:8080/"
        },
        "id": "RKwxy-GEePoH",
        "outputId": "2b60bf2f-f03d-4fc7-9564-7ddf11ed3db1"
      },
      "execution_count": 22,
      "outputs": [
        {
          "output_type": "stream",
          "name": "stdout",
          "text": [
            "True <class 'bool'>\n"
          ]
        }
      ]
    },
    {
      "cell_type": "code",
      "source": [
        "text = \"hello\"\n",
        "print(text + text, text*2)"
      ],
      "metadata": {
        "colab": {
          "base_uri": "https://localhost:8080/"
        },
        "id": "djf0dHPUeimy",
        "outputId": "1247ec3b-6772-4de2-920b-397021ca7eff"
      },
      "execution_count": 23,
      "outputs": [
        {
          "output_type": "stream",
          "name": "stdout",
          "text": [
            "hellohello hellohello\n"
          ]
        }
      ]
    },
    {
      "cell_type": "code",
      "source": [
        "# type hint\n",
        "age: int = 23\n",
        "my_name: str = \"Tuk\"\n",
        "gpa: float = 4.00\n",
        "seafood: bool = True"
      ],
      "metadata": {
        "id": "J8N2nr94fD4e"
      },
      "execution_count": 24,
      "outputs": []
    },
    {
      "cell_type": "code",
      "source": [
        "print(age, type(age))"
      ],
      "metadata": {
        "colab": {
          "base_uri": "https://localhost:8080/"
        },
        "id": "_H80Yrw7f5YA",
        "outputId": "c6ac6e0c-b4da-4ccb-f6b9-4524807e5499"
      },
      "execution_count": 25,
      "outputs": [
        {
          "output_type": "stream",
          "name": "stdout",
          "text": [
            "23 <class 'int'>\n"
          ]
        }
      ]
    },
    {
      "cell_type": "code",
      "source": [
        "# function\n",
        "print(\"hello\", \"world\")\n",
        "print(pow(5,2), abs(-5))"
      ],
      "metadata": {
        "colab": {
          "base_uri": "https://localhost:8080/"
        },
        "id": "2Z4r5EndgAKs",
        "outputId": "66591f19-f99e-4554-a48a-ea2cbfe74e6d"
      },
      "execution_count": 26,
      "outputs": [
        {
          "output_type": "stream",
          "name": "stdout",
          "text": [
            "hello world\n",
            "25 5\n"
          ]
        }
      ]
    },
    {
      "cell_type": "code",
      "source": [
        "# greeting()\n",
        "def greeting(name = \"Tuk\", location = \"London\"):\n",
        "    print(\"Hello \" + name)\n",
        "    print(\"I am in \" + location)"
      ],
      "metadata": {
        "id": "rUXOAPFNhGmP"
      },
      "execution_count": 27,
      "outputs": []
    },
    {
      "cell_type": "code",
      "source": [
        "greeting()"
      ],
      "metadata": {
        "colab": {
          "base_uri": "https://localhost:8080/"
        },
        "id": "8he63kHPhegH",
        "outputId": "1ca4c7d5-89d3-420c-ae9a-211bae77a6ef"
      },
      "execution_count": 28,
      "outputs": [
        {
          "output_type": "stream",
          "name": "stdout",
          "text": [
            "Hello Tuk\n",
            "I am in London\n"
          ]
        }
      ]
    },
    {
      "cell_type": "code",
      "source": [
        "def add_two_nums(num1,num2):\n",
        "    print(\"hello world\")\n",
        "    return num1 + num2\n",
        "    print(\"Done!\")"
      ],
      "metadata": {
        "id": "AURPULePhfxo"
      },
      "execution_count": 29,
      "outputs": []
    },
    {
      "cell_type": "code",
      "source": [
        "result = add_two_nums(5, 15)\n",
        "print(result)"
      ],
      "metadata": {
        "colab": {
          "base_uri": "https://localhost:8080/"
        },
        "id": "NmedEOZxbZC1",
        "outputId": "eb3fba85-b7ef-48da-b646-29d7515756b2"
      },
      "execution_count": 30,
      "outputs": [
        {
          "output_type": "stream",
          "name": "stdout",
          "text": [
            "hello world\n",
            "20\n"
          ]
        }
      ]
    },
    {
      "cell_type": "code",
      "source": [
        "# work with string\n",
        "text = \"hello world\"\n",
        "long_text = \"\"\"this is a\n",
        "very long text\n",
        "this is a new line\"\"\"\n",
        "\n",
        "print(text)\n",
        "print(long_text)"
      ],
      "metadata": {
        "colab": {
          "base_uri": "https://localhost:8080/"
        },
        "id": "AjPSttYybdMC",
        "outputId": "e45528f4-0cdd-41bc-e1d3-4e78f4fef91c"
      },
      "execution_count": 31,
      "outputs": [
        {
          "output_type": "stream",
          "name": "stdout",
          "text": [
            "hello world\n",
            "this is a\n",
            "very long text\n",
            "this is a new line\n"
          ]
        }
      ]
    },
    {
      "cell_type": "code",
      "source": [
        "# string template: fstring\n",
        "my_name = \"Jeno Lee\"\n",
        "location = \"London\"\n",
        "text = f\"Hi my name is {my_name} and I live in {location}\"\n",
        "\n",
        "print(text)"
      ],
      "metadata": {
        "colab": {
          "base_uri": "https://localhost:8080/"
        },
        "id": "qczwoIx-d0ip",
        "outputId": "14d5fda7-d4b3-4b64-c714-ebeac354be9b"
      },
      "execution_count": 32,
      "outputs": [
        {
          "output_type": "stream",
          "name": "stdout",
          "text": [
            "Hi my name is Jeno Lee and I live in London\n"
          ]
        }
      ]
    },
    {
      "cell_type": "code",
      "source": [
        "text = \"a duck walks into a bar\"\n",
        "print(text)"
      ],
      "metadata": {
        "colab": {
          "base_uri": "https://localhost:8080/"
        },
        "id": "CSy-PiKhehsP",
        "outputId": "c0cb30dc-181d-46bc-9287-d95b1ffd6f69"
      },
      "execution_count": 33,
      "outputs": [
        {
          "output_type": "stream",
          "name": "stdout",
          "text": [
            "a duck walks into a bar\n"
          ]
        }
      ]
    },
    {
      "cell_type": "code",
      "source": [
        "len(text)"
      ],
      "metadata": {
        "colab": {
          "base_uri": "https://localhost:8080/"
        },
        "id": "AVB-Ryi_fOeA",
        "outputId": "678d418f-caef-4c4f-cf9d-d095aa64c11f"
      },
      "execution_count": 34,
      "outputs": [
        {
          "output_type": "execute_result",
          "data": {
            "text/plain": [
              "23"
            ]
          },
          "metadata": {},
          "execution_count": 34
        }
      ]
    },
    {
      "cell_type": "code",
      "source": [
        "# slicing, index starts with 0\n",
        "print(text[22])\n",
        "print(text[0], text[-1], text[22])"
      ],
      "metadata": {
        "colab": {
          "base_uri": "https://localhost:8080/"
        },
        "id": "F6E9zf52fTsS",
        "outputId": "aae80400-0d66-493e-e8d5-fc64e3fb6564"
      },
      "execution_count": 35,
      "outputs": [
        {
          "output_type": "stream",
          "name": "stdout",
          "text": [
            "r\n",
            "a r r\n"
          ]
        }
      ]
    },
    {
      "cell_type": "code",
      "source": [
        "text [-3: ]"
      ],
      "metadata": {
        "colab": {
          "base_uri": "https://localhost:8080/",
          "height": 35
        },
        "id": "utmzNBozfp3r",
        "outputId": "f6a20f2f-de83-4275-d3ee-22504f767d40"
      },
      "execution_count": 36,
      "outputs": [
        {
          "output_type": "execute_result",
          "data": {
            "text/plain": [
              "'bar'"
            ],
            "application/vnd.google.colaboratory.intrinsic+json": {
              "type": "string"
            }
          },
          "metadata": {},
          "execution_count": 36
        }
      ]
    },
    {
      "cell_type": "code",
      "source": [
        "#string is immutable\n",
        "name = \"Python\" # -> Cython\n",
        "name = \"C\" + name[1:]\n",
        "print(name)"
      ],
      "metadata": {
        "colab": {
          "base_uri": "https://localhost:8080/"
        },
        "id": "QaWApgCNkHaE",
        "outputId": "c7185714-7bbe-41f0-ef61-21e353244281"
      },
      "execution_count": 37,
      "outputs": [
        {
          "output_type": "stream",
          "name": "stdout",
          "text": [
            "Cython\n"
          ]
        }
      ]
    },
    {
      "cell_type": "code",
      "source": [
        "text = \"a duck walks into a bar\""
      ],
      "metadata": {
        "id": "kLFZq-KPlPi8"
      },
      "execution_count": 38,
      "outputs": []
    },
    {
      "cell_type": "code",
      "source": [
        "# function vs method \n",
        "# str methods\n",
        "text.upper()"
      ],
      "metadata": {
        "colab": {
          "base_uri": "https://localhost:8080/",
          "height": 35
        },
        "id": "xuvj6fhhmDMR",
        "outputId": "f4063fe0-f33c-435d-8ea4-5260625aca76"
      },
      "execution_count": 39,
      "outputs": [
        {
          "output_type": "execute_result",
          "data": {
            "text/plain": [
              "'A DUCK WALKS INTO A BAR'"
            ],
            "application/vnd.google.colaboratory.intrinsic+json": {
              "type": "string"
            }
          },
          "metadata": {},
          "execution_count": 39
        }
      ]
    },
    {
      "cell_type": "code",
      "source": [
        "text.lower()"
      ],
      "metadata": {
        "colab": {
          "base_uri": "https://localhost:8080/",
          "height": 35
        },
        "id": "AfLrdVQtmFNv",
        "outputId": "2076b280-5b34-4950-b524-49dd5824c6f3"
      },
      "execution_count": 40,
      "outputs": [
        {
          "output_type": "execute_result",
          "data": {
            "text/plain": [
              "'a duck walks into a bar'"
            ],
            "application/vnd.google.colaboratory.intrinsic+json": {
              "type": "string"
            }
          },
          "metadata": {},
          "execution_count": 40
        }
      ]
    },
    {
      "cell_type": "code",
      "source": [
        "text.title()"
      ],
      "metadata": {
        "colab": {
          "base_uri": "https://localhost:8080/",
          "height": 35
        },
        "id": "3VyaLUctnERx",
        "outputId": "81c314c1-a1bc-49a6-8836-aabebedecd22"
      },
      "execution_count": 41,
      "outputs": [
        {
          "output_type": "execute_result",
          "data": {
            "text/plain": [
              "'A Duck Walks Into A Bar'"
            ],
            "application/vnd.google.colaboratory.intrinsic+json": {
              "type": "string"
            }
          },
          "metadata": {},
          "execution_count": 41
        }
      ]
    },
    {
      "cell_type": "code",
      "source": [
        "text.replace(\"duck\", \"lion\")"
      ],
      "metadata": {
        "colab": {
          "base_uri": "https://localhost:8080/",
          "height": 35
        },
        "id": "w53AOP9EnKue",
        "outputId": "cf539903-e8f1-4957-d52a-c11ef518b66f"
      },
      "execution_count": 42,
      "outputs": [
        {
          "output_type": "execute_result",
          "data": {
            "text/plain": [
              "'a lion walks into a bar'"
            ],
            "application/vnd.google.colaboratory.intrinsic+json": {
              "type": "string"
            }
          },
          "metadata": {},
          "execution_count": 42
        }
      ]
    },
    {
      "cell_type": "code",
      "source": [
        "words = text.split(\" \")\n",
        "print(words, type(words))"
      ],
      "metadata": {
        "colab": {
          "base_uri": "https://localhost:8080/"
        },
        "id": "WAga2iIJnW2P",
        "outputId": "ce020faa-510a-4109-b998-3962183fe6f9"
      },
      "execution_count": 43,
      "outputs": [
        {
          "output_type": "stream",
          "name": "stdout",
          "text": [
            "['a', 'duck', 'walks', 'into', 'a', 'bar'] <class 'list'>\n"
          ]
        }
      ]
    },
    {
      "cell_type": "code",
      "source": [
        "\" \".join(words)"
      ],
      "metadata": {
        "colab": {
          "base_uri": "https://localhost:8080/",
          "height": 35
        },
        "id": "LZxDOwOsnenu",
        "outputId": "6b3a4e70-58a0-46fc-eda3-41bcbfaa44ae"
      },
      "execution_count": 44,
      "outputs": [
        {
          "output_type": "execute_result",
          "data": {
            "text/plain": [
              "'a duck walks into a bar'"
            ],
            "application/vnd.google.colaboratory.intrinsic+json": {
              "type": "string"
            }
          },
          "metadata": {},
          "execution_count": 44
        }
      ]
    },
    {
      "cell_type": "code",
      "source": [
        "\"-\".join(words)"
      ],
      "metadata": {
        "colab": {
          "base_uri": "https://localhost:8080/",
          "height": 35
        },
        "id": "Z86QgFVZoAov",
        "outputId": "93de7480-324a-40b1-f58d-a851b3d318e0"
      },
      "execution_count": 45,
      "outputs": [
        {
          "output_type": "execute_result",
          "data": {
            "text/plain": [
              "'a-duck-walks-into-a-bar'"
            ],
            "application/vnd.google.colaboratory.intrinsic+json": {
              "type": "string"
            }
          },
          "metadata": {},
          "execution_count": 45
        }
      ]
    },
    {
      "cell_type": "code",
      "source": [
        "# data structures\n",
        "# 1. lists []\n",
        "# 2. tuple ()\n",
        "# 3. dictionary {}\n",
        "# 4. set {unique}\n"
      ],
      "metadata": {
        "id": "5s-R0tmVoJt0"
      },
      "execution_count": 46,
      "outputs": []
    },
    {
      "cell_type": "code",
      "source": [
        "# list\n",
        "shopping_items = [\"banana\", \"egg\", \"milk\" ]\n",
        "print(shopping_items)\n",
        "print(shopping_items[0])\n",
        "print(shopping_items[1])\n",
        "print(shopping_items[2])\n",
        "print(shopping_items[1:])\n",
        "print(len(shopping_items))\n"
      ],
      "metadata": {
        "colab": {
          "base_uri": "https://localhost:8080/"
        },
        "id": "IJpQjHaLsXtc",
        "outputId": "18dc25e4-b420-467e-b3a4-9dac282bab48"
      },
      "execution_count": 47,
      "outputs": [
        {
          "output_type": "stream",
          "name": "stdout",
          "text": [
            "['banana', 'egg', 'milk']\n",
            "banana\n",
            "egg\n",
            "milk\n",
            "['egg', 'milk']\n",
            "3\n"
          ]
        }
      ]
    },
    {
      "cell_type": "code",
      "source": [
        "shopping_items[0] = \"pineapple\"\n",
        "print(shopping_items)"
      ],
      "metadata": {
        "colab": {
          "base_uri": "https://localhost:8080/"
        },
        "id": "PsvmExI7sfTy",
        "outputId": "9e2e10d3-9ed7-425b-fd29-de9387ebbb77"
      },
      "execution_count": 48,
      "outputs": [
        {
          "output_type": "stream",
          "name": "stdout",
          "text": [
            "['pineapple', 'egg', 'milk']\n"
          ]
        }
      ]
    },
    {
      "cell_type": "code",
      "source": [
        "# list methods\n",
        "shopping_items.append(\"banana\")\n",
        "print(shopping_items)"
      ],
      "metadata": {
        "colab": {
          "base_uri": "https://localhost:8080/"
        },
        "id": "6o_oRj1stWJc",
        "outputId": "82035da0-1d08-48ed-bbcd-d8374918a99f"
      },
      "execution_count": 49,
      "outputs": [
        {
          "output_type": "stream",
          "name": "stdout",
          "text": [
            "['pineapple', 'egg', 'milk', 'banana']\n"
          ]
        }
      ]
    },
    {
      "cell_type": "code",
      "source": [
        "# sort items (ascending order)\n",
        "shopping_items.sort()\n",
        "print(shopping_items)"
      ],
      "metadata": {
        "colab": {
          "base_uri": "https://localhost:8080/"
        },
        "id": "5YLr5D5MuUYY",
        "outputId": "6227080b-e5de-467e-c026-c6ea4402c836"
      },
      "execution_count": 50,
      "outputs": [
        {
          "output_type": "stream",
          "name": "stdout",
          "text": [
            "['banana', 'egg', 'milk', 'pineapple']\n"
          ]
        }
      ]
    },
    {
      "cell_type": "code",
      "source": [
        "# sort items (decending order)\n",
        "shopping_items.sort(reverse = True)\n",
        "print(shopping_items)"
      ],
      "metadata": {
        "colab": {
          "base_uri": "https://localhost:8080/"
        },
        "id": "rTXc1uKruxaP",
        "outputId": "e456b3df-60d9-46db-cc44-e1aa1be1f3e6"
      },
      "execution_count": 51,
      "outputs": [
        {
          "output_type": "stream",
          "name": "stdout",
          "text": [
            "['pineapple', 'milk', 'egg', 'banana']\n"
          ]
        }
      ]
    },
    {
      "cell_type": "code",
      "source": [
        "scores = [90, 88, 85, 92, 75]\n",
        "print(len(scores), sum(scores), min(scores), max(scores))\n",
        "print(sum(scores) / len(scores))"
      ],
      "metadata": {
        "colab": {
          "base_uri": "https://localhost:8080/"
        },
        "id": "vQGFTsrmvXfb",
        "outputId": "3f6b1583-1144-452c-9d29-1ff008ec567a"
      },
      "execution_count": 52,
      "outputs": [
        {
          "output_type": "stream",
          "name": "stdout",
          "text": [
            "5 430 75 92\n",
            "86.0\n"
          ]
        }
      ]
    },
    {
      "cell_type": "code",
      "source": [
        "def mean(scores):\n",
        "    return sum(scores) / len(scores)"
      ],
      "metadata": {
        "id": "3fOQ44Vjv0Lk"
      },
      "execution_count": 53,
      "outputs": []
    },
    {
      "cell_type": "code",
      "source": [
        "scores = [90, 88, 85, 92, 75]\n",
        "print(len(scores), sum(scores), \n",
        "      min(scores), max(scores), mean(scores))\n"
      ],
      "metadata": {
        "colab": {
          "base_uri": "https://localhost:8080/"
        },
        "id": "III0HBelyBId",
        "outputId": "74afd93d-ace5-44ba-f76a-84d7bc459505"
      },
      "execution_count": 54,
      "outputs": [
        {
          "output_type": "stream",
          "name": "stdout",
          "text": [
            "5 430 75 92 86.0\n"
          ]
        }
      ]
    },
    {
      "cell_type": "code",
      "source": [
        "shopping_items.pop()\n",
        "shopping_items"
      ],
      "metadata": {
        "colab": {
          "base_uri": "https://localhost:8080/"
        },
        "id": "Q6Vf_3aYyl5a",
        "outputId": "56e7c28d-0733-4fe1-e725-4a8947402037"
      },
      "execution_count": 55,
      "outputs": [
        {
          "output_type": "execute_result",
          "data": {
            "text/plain": [
              "['pineapple', 'milk', 'egg']"
            ]
          },
          "metadata": {},
          "execution_count": 55
        }
      ]
    },
    {
      "cell_type": "code",
      "source": [
        "shopping_items.remove(\"egg\")\n",
        "shopping_items"
      ],
      "metadata": {
        "colab": {
          "base_uri": "https://localhost:8080/"
        },
        "id": "wiZKxBJqzk_W",
        "outputId": "3206503c-990a-4fe3-f9c1-7a21c2a0d866"
      },
      "execution_count": 56,
      "outputs": [
        {
          "output_type": "execute_result",
          "data": {
            "text/plain": [
              "['pineapple', 'milk']"
            ]
          },
          "metadata": {},
          "execution_count": 56
        }
      ]
    },
    {
      "cell_type": "code",
      "source": [
        "# .insert()\n",
        "shopping_items.insert(1, \"egg\")\n",
        "shopping_items"
      ],
      "metadata": {
        "colab": {
          "base_uri": "https://localhost:8080/"
        },
        "id": "uMXMvywZz9Ir",
        "outputId": "38a8ec63-d323-442f-b93d-f692c84a8f0f"
      },
      "execution_count": 57,
      "outputs": [
        {
          "output_type": "execute_result",
          "data": {
            "text/plain": [
              "['pineapple', 'egg', 'milk']"
            ]
          },
          "metadata": {},
          "execution_count": 57
        }
      ]
    },
    {
      "cell_type": "code",
      "source": [
        "# list + list\n",
        "items1 = ['egg', 'mi;lk']\n",
        "items2 = ['banana', 'bread']\n",
        "\n",
        "print(items1 + items2)"
      ],
      "metadata": {
        "colab": {
          "base_uri": "https://localhost:8080/"
        },
        "id": "T8l_y_Z20XUQ",
        "outputId": "718f0c03-9827-40e4-d74e-efbde25b1a26"
      },
      "execution_count": 58,
      "outputs": [
        {
          "output_type": "stream",
          "name": "stdout",
          "text": [
            "['egg', 'mi;lk', 'banana', 'bread']\n"
          ]
        }
      ]
    },
    {
      "cell_type": "code",
      "source": [
        "# tuple () is immutable\n",
        "tup_items = ('egg', 'bread', 'pepsi')\n",
        "tup_items"
      ],
      "metadata": {
        "colab": {
          "base_uri": "https://localhost:8080/"
        },
        "id": "KJvvwvjT0wD-",
        "outputId": "b7e63753-6707-4683-9c94-e3d2409579f2"
      },
      "execution_count": 59,
      "outputs": [
        {
          "output_type": "execute_result",
          "data": {
            "text/plain": [
              "('egg', 'bread', 'pepsi')"
            ]
          },
          "metadata": {},
          "execution_count": 59
        }
      ]
    },
    {
      "cell_type": "code",
      "source": [
        "# username password\n",
        "# student1, student2\n",
        "s1 = (\"id1001\", \"123456\")\n",
        "s2 = (\"id1002\", \"654321\")\n",
        "user_pw = (s1, s2)\n",
        "\n",
        "print(user_pw)"
      ],
      "metadata": {
        "colab": {
          "base_uri": "https://localhost:8080/"
        },
        "id": "mdEAjDHa1eAL",
        "outputId": "03d3743f-278d-49f1-eeda-d081bdef7e92"
      },
      "execution_count": 60,
      "outputs": [
        {
          "output_type": "stream",
          "name": "stdout",
          "text": [
            "(('id1001', '123456'), ('id1002', '654321'))\n"
          ]
        }
      ]
    },
    {
      "cell_type": "code",
      "source": [
        "# tuple unpacking\n",
        "username, password = s1\n",
        "\n",
        "print(username, password)\n"
      ],
      "metadata": {
        "colab": {
          "base_uri": "https://localhost:8080/"
        },
        "id": "U09TlFWg221b",
        "outputId": "c68d9531-dddc-4886-933d-c9b91fb102d9"
      },
      "execution_count": 61,
      "outputs": [
        {
          "output_type": "stream",
          "name": "stdout",
          "text": [
            "id1001 123456\n"
          ]
        }
      ]
    },
    {
      "cell_type": "code",
      "source": [
        "# tuple unpacking 3 values\n",
        "name, age, gpa = (\"Lee Jeno\", 22, 3.98)\n",
        "print(name, age, gpa)"
      ],
      "metadata": {
        "colab": {
          "base_uri": "https://localhost:8080/"
        },
        "id": "OjtkU8nU3Fib",
        "outputId": "75167d5d-ff55-4613-9516-c030ec9ac3a0"
      },
      "execution_count": 62,
      "outputs": [
        {
          "output_type": "stream",
          "name": "stdout",
          "text": [
            "Lee Jeno 22 3.98\n"
          ]
        }
      ]
    },
    {
      "cell_type": "code",
      "source": [
        "# tuple unpacking 3 values\n",
        "name, age, _ = (\"Lee Jeno\", 22, 3.98)\n",
        "print(name, age)"
      ],
      "metadata": {
        "colab": {
          "base_uri": "https://localhost:8080/"
        },
        "id": "3q8EEHex3d9d",
        "outputId": "ac79e487-5984-4b14-e414-746eac73f1a1"
      },
      "execution_count": 63,
      "outputs": [
        {
          "output_type": "stream",
          "name": "stdout",
          "text": [
            "Lee Jeno 22\n"
          ]
        }
      ]
    },
    {
      "cell_type": "code",
      "source": [
        "# set {unique}\n",
        "courses = [\"Python\", \"Python\", \"R\", \"SQL\"]\n"
      ],
      "metadata": {
        "id": "qwxmyJjN4C_2"
      },
      "execution_count": 64,
      "outputs": []
    },
    {
      "cell_type": "code",
      "source": [
        "set(courses)"
      ],
      "metadata": {
        "colab": {
          "base_uri": "https://localhost:8080/"
        },
        "id": "s5IM9hW-4jw3",
        "outputId": "1a3c7ec6-f5c4-413a-d1f5-69df242e097b"
      },
      "execution_count": 65,
      "outputs": [
        {
          "output_type": "execute_result",
          "data": {
            "text/plain": [
              "{'Python', 'R', 'SQL'}"
            ]
          },
          "metadata": {},
          "execution_count": 65
        }
      ]
    },
    {
      "cell_type": "code",
      "source": [
        "# dictionary key: value pairs\n",
        "# key have to be immutable\n",
        "# value can be anything\n",
        "course = {\n",
        "    \"name\": \"Data Science Boothcamp\",\n",
        "    \"student\" : 200,\n",
        "    \"duration\" : \"4 months\",\n",
        "    \"replay\" : True,\n",
        "    \"skills\" : [\"Google Sheet\", \"SQL\", \"R\", \"Python\",\n",
        "                \"Stat\", \"ML\"]\n",
        "}"
      ],
      "metadata": {
        "id": "5UA6uIN340Is"
      },
      "execution_count": 66,
      "outputs": []
    },
    {
      "cell_type": "code",
      "source": [
        "course[\"skills\"]"
      ],
      "metadata": {
        "colab": {
          "base_uri": "https://localhost:8080/"
        },
        "id": "D3kcWfzZ7zMU",
        "outputId": "513a28e6-3ed4-445b-faea-b6df610a88ce"
      },
      "execution_count": 67,
      "outputs": [
        {
          "output_type": "execute_result",
          "data": {
            "text/plain": [
              "['Google Sheet', 'SQL', 'R', 'Python', 'Stat', 'ML']"
            ]
          },
          "metadata": {},
          "execution_count": 67
        }
      ]
    },
    {
      "cell_type": "code",
      "source": [
        "# add key\n",
        "course[\"start_time\"] = \"9am\"\n",
        "course[\"language\"] = \"Thai\"\n",
        "\n",
        "course"
      ],
      "metadata": {
        "colab": {
          "base_uri": "https://localhost:8080/"
        },
        "id": "GdmOMqD_70Je",
        "outputId": "4b5086c0-8a98-4835-bc53-1e1c2f90d59d"
      },
      "execution_count": 68,
      "outputs": [
        {
          "output_type": "execute_result",
          "data": {
            "text/plain": [
              "{'name': 'Data Science Boothcamp',\n",
              " 'student': 200,\n",
              " 'duration': '4 months',\n",
              " 'replay': True,\n",
              " 'skills': ['Google Sheet', 'SQL', 'R', 'Python', 'Stat', 'ML'],\n",
              " 'start_time': '9am',\n",
              " 'language': 'Thai'}"
            ]
          },
          "metadata": {},
          "execution_count": 68
        }
      ]
    },
    {
      "cell_type": "code",
      "source": [
        "# remove key\n",
        "del course[\"language\"]\n",
        "course"
      ],
      "metadata": {
        "colab": {
          "base_uri": "https://localhost:8080/"
        },
        "id": "MxaUNBaS8ReP",
        "outputId": "97c55ccc-6cd6-4a2f-b0a4-ddab9b750b14"
      },
      "execution_count": 69,
      "outputs": [
        {
          "output_type": "execute_result",
          "data": {
            "text/plain": [
              "{'name': 'Data Science Boothcamp',\n",
              " 'student': 200,\n",
              " 'duration': '4 months',\n",
              " 'replay': True,\n",
              " 'skills': ['Google Sheet', 'SQL', 'R', 'Python', 'Stat', 'ML'],\n",
              " 'start_time': '9am'}"
            ]
          },
          "metadata": {},
          "execution_count": 69
        }
      ]
    },
    {
      "cell_type": "code",
      "source": [
        "# update value\n",
        "course[\"replay\"] = False\n",
        "course"
      ],
      "metadata": {
        "colab": {
          "base_uri": "https://localhost:8080/"
        },
        "id": "6usAFJr_8s-4",
        "outputId": "3c4d435d-dd59-4efd-b928-d67be4d2b3a9"
      },
      "execution_count": 70,
      "outputs": [
        {
          "output_type": "execute_result",
          "data": {
            "text/plain": [
              "{'name': 'Data Science Boothcamp',\n",
              " 'student': 200,\n",
              " 'duration': '4 months',\n",
              " 'replay': False,\n",
              " 'skills': ['Google Sheet', 'SQL', 'R', 'Python', 'Stat', 'ML'],\n",
              " 'start_time': '9am'}"
            ]
          },
          "metadata": {},
          "execution_count": 70
        }
      ]
    },
    {
      "cell_type": "code",
      "source": [
        "course[\"skills\"][-3:]"
      ],
      "metadata": {
        "colab": {
          "base_uri": "https://localhost:8080/"
        },
        "id": "N5LMewjZ9b4h",
        "outputId": "4bb28870-ca1d-4481-bb54-b8a45e1168ea"
      },
      "execution_count": 71,
      "outputs": [
        {
          "output_type": "execute_result",
          "data": {
            "text/plain": [
              "['Python', 'Stat', 'ML']"
            ]
          },
          "metadata": {},
          "execution_count": 71
        }
      ]
    },
    {
      "cell_type": "code",
      "source": [
        "# dict method \n",
        "course.keys()"
      ],
      "metadata": {
        "colab": {
          "base_uri": "https://localhost:8080/"
        },
        "id": "VOOzqk9M9vY-",
        "outputId": "ac83a668-a4db-430b-ffb6-0501dba5a563"
      },
      "execution_count": 72,
      "outputs": [
        {
          "output_type": "execute_result",
          "data": {
            "text/plain": [
              "dict_keys(['name', 'student', 'duration', 'replay', 'skills', 'start_time'])"
            ]
          },
          "metadata": {},
          "execution_count": 72
        }
      ]
    },
    {
      "cell_type": "code",
      "source": [
        "list(course.keys()) "
      ],
      "metadata": {
        "colab": {
          "base_uri": "https://localhost:8080/"
        },
        "id": "aujM2qss-LlW",
        "outputId": "63d8d5eb-27cd-4110-a2c0-a94f706f26a9"
      },
      "execution_count": 73,
      "outputs": [
        {
          "output_type": "execute_result",
          "data": {
            "text/plain": [
              "['name', 'student', 'duration', 'replay', 'skills', 'start_time']"
            ]
          },
          "metadata": {},
          "execution_count": 73
        }
      ]
    },
    {
      "cell_type": "code",
      "source": [
        "list(course.values()) "
      ],
      "metadata": {
        "colab": {
          "base_uri": "https://localhost:8080/"
        },
        "id": "3zCxcfIi-VpG",
        "outputId": "53e88166-3e90-46ef-ba9b-d40970774980"
      },
      "execution_count": 74,
      "outputs": [
        {
          "output_type": "execute_result",
          "data": {
            "text/plain": [
              "['Data Science Boothcamp',\n",
              " 200,\n",
              " '4 months',\n",
              " False,\n",
              " ['Google Sheet', 'SQL', 'R', 'Python', 'Stat', 'ML'],\n",
              " '9am']"
            ]
          },
          "metadata": {},
          "execution_count": 74
        }
      ]
    },
    {
      "cell_type": "code",
      "source": [
        "course.items()"
      ],
      "metadata": {
        "colab": {
          "base_uri": "https://localhost:8080/"
        },
        "id": "rxcUd0pG-mUs",
        "outputId": "09712b10-c672-4b05-e429-a117912b2783"
      },
      "execution_count": 75,
      "outputs": [
        {
          "output_type": "execute_result",
          "data": {
            "text/plain": [
              "dict_items([('name', 'Data Science Boothcamp'), ('student', 200), ('duration', '4 months'), ('replay', False), ('skills', ['Google Sheet', 'SQL', 'R', 'Python', 'Stat', 'ML']), ('start_time', '9am')])"
            ]
          },
          "metadata": {},
          "execution_count": 75
        }
      ]
    },
    {
      "cell_type": "code",
      "source": [
        "course.get(\"replays\")"
      ],
      "metadata": {
        "id": "SFUBUkB9-vwO"
      },
      "execution_count": 76,
      "outputs": []
    },
    {
      "cell_type": "code",
      "source": [
        "# Recap\n",
        "# list, dict = mutable\n",
        "# tuble, str = immutable\n"
      ],
      "metadata": {
        "id": "G_Etx-Gx_A82"
      },
      "execution_count": 77,
      "outputs": []
    },
    {
      "cell_type": "code",
      "source": [
        "# control flow\n",
        "# if for while"
      ],
      "metadata": {
        "id": "kdDXv6NVMcOs"
      },
      "execution_count": 78,
      "outputs": []
    },
    {
      "cell_type": "code",
      "source": [
        "# if\n",
        "# final exmam 150, pass >= 120\n",
        "score = 125\n",
        "if score >= 120:\n",
        "    print(\"pass\")\n",
        "else:\n",
        "    print(\"fail\")"
      ],
      "metadata": {
        "colab": {
          "base_uri": "https://localhost:8080/"
        },
        "id": "yB56kxLzMkFJ",
        "outputId": "2d55c0e4-1934-4e88-a0ac-fb535e4c5196"
      },
      "execution_count": 79,
      "outputs": [
        {
          "output_type": "stream",
          "name": "stdout",
          "text": [
            "pass\n"
          ]
        }
      ]
    },
    {
      "cell_type": "code",
      "source": [
        "# if\n",
        "# final exmam 150, pass >= 120\n",
        "def grade(score):\n",
        "    if score >= 120:\n",
        "        print(\"pass\")\n",
        "    else:\n",
        "        print(\"fail\")\n",
        "\n"
      ],
      "metadata": {
        "id": "-ko9PIY1NDgY"
      },
      "execution_count": 80,
      "outputs": []
    },
    {
      "cell_type": "code",
      "source": [
        "grade(88)"
      ],
      "metadata": {
        "colab": {
          "base_uri": "https://localhost:8080/"
        },
        "id": "LXpEKBrrNmJ2",
        "outputId": "6dd67351-c890-42ab-f732-4a0387786a44"
      },
      "execution_count": 81,
      "outputs": [
        {
          "output_type": "stream",
          "name": "stdout",
          "text": [
            "fail\n"
          ]
        }
      ]
    },
    {
      "cell_type": "code",
      "source": [
        "def grade(score):\n",
        "    if score >= 120:\n",
        "        return \"pass\"\n",
        "    else:\n",
        "        return \"fail\""
      ],
      "metadata": {
        "id": "Rugg_1bTNnmZ"
      },
      "execution_count": 82,
      "outputs": []
    },
    {
      "cell_type": "code",
      "source": [
        "result = grade(88)\n",
        "print(result)"
      ],
      "metadata": {
        "colab": {
          "base_uri": "https://localhost:8080/"
        },
        "id": "oSEfMh6ZOGWD",
        "outputId": "e64166eb-37c6-4701-d397-369b1520245b"
      },
      "execution_count": 83,
      "outputs": [
        {
          "output_type": "stream",
          "name": "stdout",
          "text": [
            "fail\n"
          ]
        }
      ]
    },
    {
      "cell_type": "code",
      "source": [
        "def grade(score):\n",
        "    if score >= 120:\n",
        "        return \"excellent\"\n",
        "    elif score >= 100:\n",
        "        return \"good\"\n",
        "    elif score >= 80:\n",
        "        return \"okay\"\n",
        "    else:\n",
        "        return \"need to read more\""
      ],
      "metadata": {
        "id": "5TJEaEpPOM_m"
      },
      "execution_count": 84,
      "outputs": []
    },
    {
      "cell_type": "code",
      "source": [
        "result = grade(115)\n",
        "print(result)"
      ],
      "metadata": {
        "colab": {
          "base_uri": "https://localhost:8080/"
        },
        "id": "VSv8mk8wPs0i",
        "outputId": "2adac309-1480-4b83-d03a-f5e30201167d"
      },
      "execution_count": 85,
      "outputs": [
        {
          "output_type": "stream",
          "name": "stdout",
          "text": [
            "good\n"
          ]
        }
      ]
    },
    {
      "cell_type": "code",
      "source": [
        "# and, or in condition\n",
        "# course == data science, score >= 80 passed\n",
        "# course == english, score >= 70 passed\n",
        "def grade(course, score): \n",
        "    if course == \"english\" and score >= 70:\n",
        "        return \"passed\"\n",
        "    elif course == \"data science\" and score >= 80:\n",
        "        return \"passed\"\n",
        "    else:\n",
        "        return \"failed\"\n"
      ],
      "metadata": {
        "id": "6Y0hh5I3PwCN"
      },
      "execution_count": 86,
      "outputs": []
    },
    {
      "cell_type": "code",
      "source": [
        "grade(\"data science\",81 )"
      ],
      "metadata": {
        "colab": {
          "base_uri": "https://localhost:8080/",
          "height": 35
        },
        "id": "ICAeDBtXQ0-K",
        "outputId": "fe55255c-3aae-4530-91eb-1881d300238d"
      },
      "execution_count": 87,
      "outputs": [
        {
          "output_type": "execute_result",
          "data": {
            "text/plain": [
              "'passed'"
            ],
            "application/vnd.google.colaboratory.intrinsic+json": {
              "type": "string"
            }
          },
          "metadata": {},
          "execution_count": 87
        }
      ]
    },
    {
      "cell_type": "code",
      "source": [
        "# for loop\n",
        "# if socre >= 80, passed \n",
        "def grading_all(scores):\n",
        "    new_scores = []\n",
        "    for score in scores:\n",
        "        new_scores.append(score-2)\n",
        "    return(new_scores)"
      ],
      "metadata": {
        "id": "N3PsO4NqQ6n_"
      },
      "execution_count": 88,
      "outputs": []
    },
    {
      "cell_type": "code",
      "source": [
        "grading_all([75, 88, 90, 95, 52])"
      ],
      "metadata": {
        "colab": {
          "base_uri": "https://localhost:8080/"
        },
        "id": "6_Ag7J6CSKIm",
        "outputId": "2c319e04-7fa7-42ca-dc3e-79ae0b30ec06"
      },
      "execution_count": 89,
      "outputs": [
        {
          "output_type": "execute_result",
          "data": {
            "text/plain": [
              "[73, 86, 88, 93, 50]"
            ]
          },
          "metadata": {},
          "execution_count": 89
        }
      ]
    },
    {
      "cell_type": "code",
      "source": [
        "# lists comprehension\n",
        "scores = [75, 88, 90, 95, 52]"
      ],
      "metadata": {
        "id": "PSc2b-QNTFDf"
      },
      "execution_count": 90,
      "outputs": []
    },
    {
      "cell_type": "code",
      "source": [
        "[s*2 for s in scores]\n"
      ],
      "metadata": {
        "colab": {
          "base_uri": "https://localhost:8080/"
        },
        "id": "1-aHLawQToOL",
        "outputId": "cbe7e94c-0f71-41e0-fd2a-87cd437547c8"
      },
      "execution_count": 91,
      "outputs": [
        {
          "output_type": "execute_result",
          "data": {
            "text/plain": [
              "[150, 176, 180, 190, 104]"
            ]
          },
          "metadata": {},
          "execution_count": 91
        }
      ]
    },
    {
      "cell_type": "code",
      "source": [
        "friends = [\"tuk\", \"nina\", \"vee\", \"jiao\"]\n",
        "[f.upper() for f in friends]"
      ],
      "metadata": {
        "colab": {
          "base_uri": "https://localhost:8080/"
        },
        "id": "m_oFaowqTtyp",
        "outputId": "8a897c28-f3a4-4852-df30-a88833e42db2"
      },
      "execution_count": 92,
      "outputs": [
        {
          "output_type": "execute_result",
          "data": {
            "text/plain": [
              "['TUK', 'NINA', 'VEE', 'JIAO']"
            ]
          },
          "metadata": {},
          "execution_count": 92
        }
      ]
    },
    {
      "cell_type": "code",
      "source": [
        "# while loop \n",
        "count = 0\n",
        "\n",
        "while count < 5:\n",
        "    print(\"hello\")\n",
        "    count +=1 # is count = count + 1"
      ],
      "metadata": {
        "colab": {
          "base_uri": "https://localhost:8080/"
        },
        "id": "EMFMRFlTU09Z",
        "outputId": "93f9b66d-a64a-4ca7-9315-566547ac13b5"
      },
      "execution_count": 93,
      "outputs": [
        {
          "output_type": "stream",
          "name": "stdout",
          "text": [
            "hello\n",
            "hello\n",
            "hello\n",
            "hello\n",
            "hello\n"
          ]
        }
      ]
    },
    {
      "cell_type": "code",
      "source": [
        "# chatbot for fruit order\n",
        "user_name = input (\"what is your name?\")"
      ],
      "metadata": {
        "id": "9bG98IdsVtwb",
        "colab": {
          "base_uri": "https://localhost:8080/"
        },
        "outputId": "c02a8c9d-f43a-41db-c4e2-e7b0d6fd462b"
      },
      "execution_count": 94,
      "outputs": [
        {
          "name": "stdout",
          "output_type": "stream",
          "text": [
            "what is your name?Jeno\n"
          ]
        }
      ]
    },
    {
      "cell_type": "code",
      "source": [
        "user_name"
      ],
      "metadata": {
        "id": "OM4zPjazWVQE",
        "colab": {
          "base_uri": "https://localhost:8080/",
          "height": 35
        },
        "outputId": "4b583db4-e5a9-4f42-a2b5-e6733a31f300"
      },
      "execution_count": 95,
      "outputs": [
        {
          "output_type": "execute_result",
          "data": {
            "text/plain": [
              "'Jeno'"
            ],
            "application/vnd.google.colaboratory.intrinsic+json": {
              "type": "string"
            }
          },
          "metadata": {},
          "execution_count": 95
        }
      ]
    },
    {
      "cell_type": "code",
      "source": [
        "def chatbot():\n",
        "    fruits = []\n",
        "    while True:\n",
        "        fruit = input(\"what fruit do you want to order?\")\n",
        "        fruits.append(fruit)\n",
        "        if fruit == \"exit\":\n",
        "            return fruits"
      ],
      "metadata": {
        "id": "z_es0b7BWgZs"
      },
      "execution_count": 100,
      "outputs": []
    },
    {
      "cell_type": "code",
      "source": [
        "chatbot()"
      ],
      "metadata": {
        "id": "XBuqCRELXDjj",
        "colab": {
          "base_uri": "https://localhost:8080/"
        },
        "outputId": "7e4a4acc-ad38-4416-b1c9-3053069370c6"
      },
      "execution_count": 102,
      "outputs": [
        {
          "name": "stdout",
          "output_type": "stream",
          "text": [
            "what fruit do you want to order?apple\n",
            "what fruit do you want to order?orange\n",
            "what fruit do you want to order?mango\n",
            "what fruit do you want to order?exit\n"
          ]
        },
        {
          "output_type": "execute_result",
          "data": {
            "text/plain": [
              "['apple', 'orange', 'mango', 'exit']"
            ]
          },
          "metadata": {},
          "execution_count": 102
        }
      ]
    },
    {
      "cell_type": "code",
      "source": [
        "age = int(input(\"how old are you?\"))"
      ],
      "metadata": {
        "id": "1TLwnkF8anTT",
        "colab": {
          "base_uri": "https://localhost:8080/"
        },
        "outputId": "3dc8634c-22ae-42be-f91c-cecf6cc3a5e0"
      },
      "execution_count": 103,
      "outputs": [
        {
          "name": "stdout",
          "output_type": "stream",
          "text": [
            "how old are you?24\n"
          ]
        }
      ]
    },
    {
      "cell_type": "code",
      "source": [
        "# OOP - Object Oriented Programming\n",
        "# Dog class"
      ],
      "metadata": {
        "id": "T5nMXdFWa_n4"
      },
      "execution_count": 120,
      "outputs": []
    },
    {
      "cell_type": "code",
      "source": [
        "class Dog:\n",
        "    def __init__(self, name, age, breed):\n",
        "        self.name = name\n",
        "        self.age = age\n",
        "        self.breed = breed\n"
      ],
      "metadata": {
        "id": "noRBGI1acH_x"
      },
      "execution_count": 121,
      "outputs": []
    },
    {
      "cell_type": "code",
      "source": [
        "dog1 = Dog(\"ovaltine\", 2, \"chivava\") #self refers to dog1,2,3 \n",
        "dog2 = Dog(\"milo\", 3, \"bulldog\")\n",
        "dog3 = Dog(\"pepsi\", 3.5, \"german shepherd\")"
      ],
      "metadata": {
        "id": "6cVYVXdCceJT"
      },
      "execution_count": 122,
      "outputs": []
    },
    {
      "cell_type": "code",
      "source": [
        "dog1.name"
      ],
      "metadata": {
        "id": "4nXb_k7GdaZY",
        "colab": {
          "base_uri": "https://localhost:8080/",
          "height": 35
        },
        "outputId": "e5381c27-1d43-4738-ed33-e9522825e5cb"
      },
      "execution_count": 123,
      "outputs": [
        {
          "output_type": "execute_result",
          "data": {
            "text/plain": [
              "'ovaltine'"
            ],
            "application/vnd.google.colaboratory.intrinsic+json": {
              "type": "string"
            }
          },
          "metadata": {},
          "execution_count": 123
        }
      ]
    },
    {
      "cell_type": "code",
      "source": [
        "print(dog1.name,\n",
        "      dog2.name,\n",
        "      dog3.name)"
      ],
      "metadata": {
        "id": "eOzAyUbPdcUl",
        "colab": {
          "base_uri": "https://localhost:8080/"
        },
        "outputId": "27930fd0-20ba-4223-bdc1-40a78c1e2e7b"
      },
      "execution_count": 124,
      "outputs": [
        {
          "output_type": "stream",
          "name": "stdout",
          "text": [
            "ovaltine milo pepsi\n"
          ]
        }
      ]
    },
    {
      "cell_type": "code",
      "source": [
        "print(dog1.name, dog1.age, dog1.breed)"
      ],
      "metadata": {
        "id": "L6hNXQuhdlZO",
        "colab": {
          "base_uri": "https://localhost:8080/"
        },
        "outputId": "46c9e963-8dfb-4ab3-8095-8b3a74c1e482"
      },
      "execution_count": 125,
      "outputs": [
        {
          "output_type": "stream",
          "name": "stdout",
          "text": [
            "ovaltine 2 chivava\n"
          ]
        }
      ]
    },
    {
      "cell_type": "code",
      "source": [
        "class Employee:\n",
        "    def __init__(self, id, name, dept, pos):\n",
        "        self.id = id\n",
        "        self.name = name\n",
        "        self.dept = dept\n",
        "        self.pos = pos \n",
        "\n",
        "    def hello(self): #action\n",
        "        print(f\"Hello! my name is {self.name}\")\n",
        "\n",
        "    def work_hours(self, hours):\n",
        "        print(f\"{self.name} work for {hours} hours.\") # {hours} no need to use self.hours bc its not the value that \n",
        "        #we declare above, its like a new value and its not attach to employee and change everytime\n",
        "    \n",
        "    def change_dept(self, new_dept):\n",
        "        self.dept = new_dept\n",
        "        print(f\"{self.name} is now in {self.dept}\")"
      ],
      "metadata": {
        "id": "Wp0EWym8eZAL"
      },
      "execution_count": 126,
      "outputs": []
    },
    {
      "cell_type": "code",
      "source": [
        "em1 = Employee(1, \"Tuk\", \"Finance\", \"Financial Analyst\")"
      ],
      "metadata": {
        "id": "45RCukcnfs9u"
      },
      "execution_count": 127,
      "outputs": []
    },
    {
      "cell_type": "code",
      "source": [
        "print(em1.name, em1.pos)"
      ],
      "metadata": {
        "id": "hjq_2K_if5-q",
        "colab": {
          "base_uri": "https://localhost:8080/"
        },
        "outputId": "5c00bbd6-b164-46ef-98c7-99020850be94"
      },
      "execution_count": 128,
      "outputs": [
        {
          "output_type": "stream",
          "name": "stdout",
          "text": [
            "Tuk Financial Analyst\n"
          ]
        }
      ]
    },
    {
      "cell_type": "code",
      "source": [
        "em1.hello()"
      ],
      "metadata": {
        "id": "Adb3vUz7gHYC",
        "colab": {
          "base_uri": "https://localhost:8080/"
        },
        "outputId": "4c33501f-ac77-4832-8560-3e3a02e50293"
      },
      "execution_count": 129,
      "outputs": [
        {
          "output_type": "stream",
          "name": "stdout",
          "text": [
            "Hello! my name is Tuk\n"
          ]
        }
      ]
    },
    {
      "cell_type": "code",
      "source": [
        "em1.work_hours(8)"
      ],
      "metadata": {
        "id": "hzNzt-2ZgJwY",
        "colab": {
          "base_uri": "https://localhost:8080/"
        },
        "outputId": "ce415ca3-6a17-4d69-813b-db837e88434c"
      },
      "execution_count": 130,
      "outputs": [
        {
          "output_type": "stream",
          "name": "stdout",
          "text": [
            "Tuk work for 8 hours.\n"
          ]
        }
      ]
    },
    {
      "cell_type": "code",
      "source": [
        "em1.dept"
      ],
      "metadata": {
        "id": "v3shJCEthTeU",
        "colab": {
          "base_uri": "https://localhost:8080/",
          "height": 35
        },
        "outputId": "73ff6085-93f5-4e61-8eca-f689e6f977da"
      },
      "execution_count": 131,
      "outputs": [
        {
          "output_type": "execute_result",
          "data": {
            "text/plain": [
              "'Finance'"
            ],
            "application/vnd.google.colaboratory.intrinsic+json": {
              "type": "string"
            }
          },
          "metadata": {},
          "execution_count": 131
        }
      ]
    },
    {
      "cell_type": "code",
      "source": [
        "em1.change_dept(\"Data Science\")"
      ],
      "metadata": {
        "id": "22jklPehjL7I",
        "colab": {
          "base_uri": "https://localhost:8080/"
        },
        "outputId": "f7318c33-2020-4688-ec4e-7b073af344e2"
      },
      "execution_count": 132,
      "outputs": [
        {
          "output_type": "stream",
          "name": "stdout",
          "text": [
            "Tuk is now in Data Science\n"
          ]
        }
      ]
    },
    {
      "cell_type": "code",
      "source": [
        "em1.dept"
      ],
      "metadata": {
        "id": "mo4j37iQjToR",
        "colab": {
          "base_uri": "https://localhost:8080/",
          "height": 35
        },
        "outputId": "ce869140-6ac7-4d9e-f766-d26fccc8edd6"
      },
      "execution_count": 133,
      "outputs": [
        {
          "output_type": "execute_result",
          "data": {
            "text/plain": [
              "'Data Science'"
            ],
            "application/vnd.google.colaboratory.intrinsic+json": {
              "type": "string"
            }
          },
          "metadata": {},
          "execution_count": 133
        }
      ]
    },
    {
      "cell_type": "code",
      "source": [
        "# object: attrbute => name, id, dept, pos\n",
        "# object: method => hello(), change_dept()"
      ],
      "metadata": {
        "id": "A0BcoUlpjYUp"
      },
      "execution_count": 134,
      "outputs": []
    },
    {
      "cell_type": "code",
      "source": [],
      "metadata": {
        "id": "SKZAV4zXkkYQ"
      },
      "execution_count": 134,
      "outputs": []
    }
  ]
}